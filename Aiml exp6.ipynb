{
  "nbformat": 4,
  "nbformat_minor": 0,
  "metadata": {
    "colab": {
      "provenance": []
    },
    "kernelspec": {
      "name": "python3",
      "display_name": "Python 3"
    },
    "language_info": {
      "name": "python"
    }
  },
  "cells": [
    {
      "cell_type": "code",
      "execution_count": 3,
      "metadata": {
        "id": "sjbJi6k6qu_Z"
      },
      "outputs": [],
      "source": [
        "import pandas as pd\n",
        "import numpy as np\n",
        "import matplotlib.pyplot as plt"
      ]
    },
    {
      "cell_type": "code",
      "source": [
        "# Load your dataset\n",
        "df = pd.read_csv('attendance.csv')"
      ],
      "metadata": {
        "id": "0AWwVXMvv2NL"
      },
      "execution_count": 4,
      "outputs": []
    },
    {
      "cell_type": "code",
      "source": [
        "# Handling Missing Values\n",
        "\n",
        "# Option 1: Remove rows with missing values\n",
        "df_cleaned = df.dropna()"
      ],
      "metadata": {
        "id": "69Uu6eL3PWNI"
      },
      "execution_count": 5,
      "outputs": []
    },
    {
      "cell_type": "code",
      "source": [
        "# Option 2: Fill missing values with the mean (for numerical columns)\n",
        "df_filled = df.fillna(df.select_dtypes(include=np.number).mean()) # Select only numeric columns for calculating the mean"
      ],
      "metadata": {
        "id": "aHNZGzBBPdAP"
      },
      "execution_count": 7,
      "outputs": []
    },
    {
      "cell_type": "code",
      "source": [
        "# Option 3: Fill missing values with the median (for numerical columns)\n",
        "df_filled_median = df.fillna(df.select_dtypes(include=np.number).median()) # Select numeric columns for median calculation"
      ],
      "metadata": {
        "id": "pwFBHauaPmnA"
      },
      "execution_count": 9,
      "outputs": []
    },
    {
      "cell_type": "code",
      "source": [
        "# Option 4: Fill missing values with the mode (for categorical columns)\n",
        "df_filled_mode = df.apply(lambda x: x.fillna(x.mode()[0]) if x.dtype == 'O' else x)"
      ],
      "metadata": {
        "id": "8wjBChXLPtcb"
      },
      "execution_count": 10,
      "outputs": []
    },
    {
      "cell_type": "code",
      "source": [
        "# Handling Outliers\n",
        "\n",
        "# Using the Interquartile Range (IQR) method\n",
        "Q1 = df.select_dtypes(include=np.number).quantile(0.25) # Select numeric columns for quantile calculations\n",
        "Q3 = df.select_dtypes(include=np.number).quantile(0.75) # Select numeric columns for quantile calculations\n",
        "IQR = Q3 - Q1"
      ],
      "metadata": {
        "id": "nSWSY7ZbPxqv"
      },
      "execution_count": 12,
      "outputs": []
    },
    {
      "cell_type": "code",
      "source": [
        "# Define outlier bounds\n",
        "lower_bound = Q1 - 1.5 * IQR\n",
        "upper_bound = Q3 + 1.5 * IQR"
      ],
      "metadata": {
        "id": "EQ40d2irP2Hq"
      },
      "execution_count": 13,
      "outputs": []
    },
    {
      "cell_type": "code",
      "source": [
        "# Identify outliers\n",
        "outliers = ((df.select_dtypes(include=np.number) < lower_bound) | (df.select_dtypes(include=np.number) > upper_bound))"
      ],
      "metadata": {
        "id": "wht1EBhRP5b5"
      },
      "execution_count": 15,
      "outputs": []
    },
    {
      "cell_type": "code",
      "source": [
        "# Option 1: Remove outliers\n",
        "df_no_outliers = df[~((df.select_dtypes(include=np.number) < lower_bound) | (df.select_dtypes(include=np.number) > upper_bound)).any(axis=1)]"
      ],
      "metadata": {
        "id": "182b6mFQQBxc"
      },
      "execution_count": 17,
      "outputs": []
    },
    {
      "cell_type": "code",
      "source": [
        "# Option 2: Cap outliers to the lower and upper bounds\n",
        "df_capped = df.copy()\n",
        "numeric_df = df.select_dtypes(include=np.number) # Select numeric columns for comparison\n",
        "\n",
        "for col in numeric_df.columns:\n",
        "    df_capped.loc[numeric_df[col] < lower_bound[col], col] = lower_bound[col]\n",
        "    df_capped.loc[numeric_df[col] > upper_bound[col], col] = upper_bound[col]"
      ],
      "metadata": {
        "colab": {
          "base_uri": "https://localhost:8080/"
        },
        "id": "k0erE9irQEz8",
        "outputId": "60460a15-9fba-41d8-d655-81137eaf469e"
      },
      "execution_count": 21,
      "outputs": [
        {
          "output_type": "stream",
          "name": "stderr",
          "text": [
            "<ipython-input-21-a5d1c4883c65>:6: FutureWarning: Setting an item of incompatible dtype is deprecated and will raise an error in a future version of pandas. Value '49995057.5' has dtype incompatible with int64, please explicitly cast to a compatible dtype first.\n",
            "  df_capped.loc[numeric_df[col] < lower_bound[col], col] = lower_bound[col]\n"
          ]
        }
      ]
    },
    {
      "cell_type": "code",
      "source": [
        "# Option 3: Impute outliers with mean/median\n",
        "df_imputed_outliers = df.copy()\n",
        "df_imputed_outliers[outliers] = np.nan\n",
        "\n",
        "# Calculate the mean only for numeric columns\n",
        "numeric_df = df.select_dtypes(include=np.number)\n",
        "df_imputed_outliers = df_imputed_outliers.fillna(numeric_df.mean())"
      ],
      "metadata": {
        "id": "XGbBiHS9QIY4"
      },
      "execution_count": 23,
      "outputs": []
    },
    {
      "cell_type": "code",
      "source": [
        "print(\"Original DataFrame:\\n\", df)\n",
        "print(\"DataFrame after handling missing values and outliers:\\n\", df_imputed_outliers)"
      ],
      "metadata": {
        "colab": {
          "base_uri": "https://localhost:8080/"
        },
        "id": "aHDSP5V6QP0G",
        "outputId": "6a250bbc-d684-4ad2-a741-e820e43e6879"
      },
      "execution_count": 24,
      "outputs": [
        {
          "output_type": "stream",
          "name": "stdout",
          "text": [
            "Original DataFrame:\n",
            "       ROLL ID    SAP ID            NAME  Mobile No.  Jan  Feb March   Apr  \\\n",
            "0  R211235456  50002354   Pranav Sharma  2195275467  90%  75%   75%  100%   \n",
            "1  R215665563  50003546    Ranjan Kumar  3458681667  85%  55%   65%   45%   \n",
            "2  R218999654  50007894  Riya Srivastav  6355230652  80%  76%   89%   55%   \n",
            "3  R212256653  50003156     Aditi Tamta  5199011174  75%  89%   97%   89%   \n",
            "4  R218656723  50007235   Mehak Kandpal  9400440148  95%  88%  100%   89%   \n",
            "5  R212544582  50002324     Sajal Suyal  5480911851  58%  90%   77%   66%   \n",
            "6  R218946821  50008943  Lokesh Kapkoti  5322590673  80%  69%   95%   45%   \n",
            "7  R219756894  50003013   Diwakar Bisht  3239190309  70%  50%   80%   89%   \n",
            "8  R218656595  50002364  Devank Rathore  4069562366  69%  89%   60%   99%   \n",
            "\n",
            "      May  \n",
            "0     79%  \n",
            "1     67%  \n",
            "2     90%  \n",
            "3     67%  \n",
            "4    100%  \n",
            "5     55%  \n",
            "6  89.50%  \n",
            "7     56%  \n",
            "8     89%  \n",
            "DataFrame after handling missing values and outliers:\n",
            "       ROLL ID    SAP ID            NAME    Mobile No.  Jan  Feb March   Apr  \\\n",
            "0  R211235456  50002354   Pranav Sharma  2.195275e+09  90%  75%   75%  100%   \n",
            "1  R215665563  50003546    Ranjan Kumar  3.458682e+09  85%  55%   65%   45%   \n",
            "2  R218999654  50007894  Riya Srivastav  6.355231e+09  80%  76%   89%   55%   \n",
            "3  R212256653  50003156     Aditi Tamta  5.199011e+09  75%  89%   97%   89%   \n",
            "4  R218656723  50007235   Mehak Kandpal  4.968988e+09  95%  88%  100%   89%   \n",
            "5  R212544582  50002324     Sajal Suyal  5.480912e+09  58%  90%   77%   66%   \n",
            "6  R218946821  50008943  Lokesh Kapkoti  5.322591e+09  80%  69%   95%   45%   \n",
            "7  R219756894  50003013   Diwakar Bisht  3.239190e+09  70%  50%   80%   89%   \n",
            "8  R218656595  50002364  Devank Rathore  4.069562e+09  69%  89%   60%   99%   \n",
            "\n",
            "      May  \n",
            "0     79%  \n",
            "1     67%  \n",
            "2     90%  \n",
            "3     67%  \n",
            "4    100%  \n",
            "5     55%  \n",
            "6  89.50%  \n",
            "7     56%  \n",
            "8     89%  \n"
          ]
        }
      ]
    }
  ]
}